{
 "cells": [
  {
   "cell_type": "code",
   "execution_count": 10,
   "id": "4eec1d4c",
   "metadata": {},
   "outputs": [
    {
     "name": "stdout",
     "output_type": "stream",
     "text": [
      "The first person to land on the Moon was Neil Armstrong. He stepped out of the lunar module Eagle and onto the Moon's surface on July 20, 1969, during the Apollo 11 mission. Armstrong famously declared, \"That's one small step for man, one giant leap for mankind,\" as he became the first human to set foot on the Moon.\n"
     ]
    }
   ],
   "source": [
    "from langchain_groq import ChatGroq\n",
    "\n",
    "llm = ChatGroq(\n",
    "    temperature=0.0,\n",
    "    groq_api_key ='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',\n",
    "    model_name =\"llama-3.1-70b-versatile\"\n",
    "    # other params...\n",
    ")\n",
    "response = llm.invoke(\"first person to land on mooon was ... \")\n",
    "print(response.content)\n"
   ]
  },
  {
   "cell_type": "code",
   "execution_count": 11,
   "id": "f3b5136f",
   "metadata": {},
   "outputs": [
    {
     "ename": "SyntaxError",
     "evalue": "invalid syntax. Perhaps you forgot a comma? (2487418741.py, line 4)",
     "output_type": "error",
     "traceback": [
      "\u001b[0;36m  Cell \u001b[0;32mIn[11], line 4\u001b[0;36m\u001b[0m\n\u001b[0;31m    web_path = \"https://www.espn.com/\"\u001b[0m\n\u001b[0m               ^\u001b[0m\n\u001b[0;31mSyntaxError\u001b[0m\u001b[0;31m:\u001b[0m invalid syntax. Perhaps you forgot a comma?\n"
     ]
    }
   ],
   "source": [
    "from langchain_community.document_loaders import WebBaseLoader\n",
    "\n",
    "loader = WebBaseLoader(\n",
    "    web_path = \"https://www.espn.com/\"\n",
    "    page_data = loader.load.().pop().page_content\n",
    "    print(page_data)\n",
    ")"
   ]
  },
  {
   "cell_type": "code",
   "execution_count": 13,
   "id": "e39e5213",
   "metadata": {},
   "outputs": [
    {
     "ename": "IndentationError",
     "evalue": "unexpected indent (1969301340.py, line 4)",
     "output_type": "error",
     "traceback": [
      "\u001b[0;36m  Cell \u001b[0;32mIn[13], line 4\u001b[0;36m\u001b[0m\n\u001b[0;31m    page_data = loader.load.().pop().page_content\u001b[0m\n\u001b[0m    ^\u001b[0m\n\u001b[0;31mIndentationError\u001b[0m\u001b[0;31m:\u001b[0m unexpected indent\n"
     ]
    }
   ],
   "source": [
    "from langchain_community.document_loaders import WebBaseLoader\n",
    "\n",
    "loader = WebBaseLoader(\"https://jobs.nike.com/job/R-50900?from=job%20search%20funnel\"),\n",
    "    page_data = loader.load.().pop().page_content\n",
    "    print(page_data)\n",
    ")"
   ]
  },
  {
   "cell_type": "code",
   "execution_count": 14,
   "id": "a0d62979",
   "metadata": {},
   "outputs": [
    {
     "ename": "IndentationError",
     "evalue": "unexpected indent (3996246461.py, line 4)",
     "output_type": "error",
     "traceback": [
      "\u001b[0;36m  Cell \u001b[0;32mIn[14], line 4\u001b[0;36m\u001b[0m\n\u001b[0;31m    page_data = loader.load.().pop().page_content\u001b[0m\n\u001b[0m    ^\u001b[0m\n\u001b[0;31mIndentationError\u001b[0m\u001b[0;31m:\u001b[0m unexpected indent\n"
     ]
    }
   ],
   "source": [
    "from langchain_community.document_loaders import WebBaseLoader\n",
    "\n",
    "loader = WebBaseLoader(\"https://jobs.nike.com/job/R-50900?from=job%20search%20funnel\"),\n",
    "    page_data = loader.load.().pop().page_content\n",
    "    print(page_data)"
   ]
  },
  {
   "cell_type": "code",
   "execution_count": 18,
   "id": "64270db8",
   "metadata": {},
   "outputs": [
    {
     "name": "stderr",
     "output_type": "stream",
     "text": [
      "USER_AGENT environment variable not set, consider setting it to identify your requests.\n"
     ]
    },
    {
     "name": "stdout",
     "output_type": "stream",
     "text": [
      "Apply for Store Manager – Jordan Brand – Philadelphia\n",
      "\n",
      "Search JobsSkip navigationSearch JobsNIKE, INC. JOBSContract JobsJoin The Talent CommunityLife @ NikeOverviewBenefitsBrandsOverviewJordanConverseTeamsOverviewAdministrative SupportAdvanced InnovationAir Manufacturing InnovationAviationCommunicationsCustomer ServiceDesignDigitalFacilitiesFinance & AccountingGovernment & Public AffairsHuman ResourcesInsights & AnalyticsLegalManufacturing & EngineeringMarketingMerchandisingPlanningPrivacyProcurementProduct Creation, Development & ManagementRetail CorporateRetail StoresSalesSocial & Community ImpactSports MarketingStrategic PlanningSupply Chain, Distribution & LogisticsSustainabilityTechnologyLocationsOverviewNike WHQNike New York HQEHQ: Hilversum, The NetherlandsELC: Laakdal, BelgiumGreater China HQDiversity, Equity & InclusionOverviewMilitary InclusionDisability InclusionIndigenous InclusionInternshipsRetail StoresStore Manager – Jordan Brand – PhiladelphiaPhiladelphia, PennsylvaniaBecome a Part of the NIKE, Inc. TeamNIKE, Inc. does more than outfit the world’s best athletes. It is a place to explore potential, obliterate boundaries and push out the edges of what can be. The company looks for people who can grow, think, dream and create. Its culture thrives by embracing diversity and rewarding imagination. The brand seeks achievers, leaders and visionaries. At NIKE, Inc. it’s about each person bringing skills and passion to a challenging and constantly evolving game.To work in retail is to be the face of NIKE, Inc. With a relentless focus on product knowledge and customer service, Nike Retail teams give valuable experiences to consumers every day. From Shanghai to San Francisco, every store has a unique perspective and hosts an inspiring community of sport and style devotees. A career in Nike Retail demands creativity and ambition and offers the opportunity to grow with some of the best athletes, teammates and retail partners in the industry.Jordan World of Flight Job Description Retail Store Manager Location & Store Type: Jordan - Philadelphia] Address: Philadelphia, PA   Hours: Full Time – 34-40 hours per week, including nights and weekends    Join the Jordan Team as a Store Manager  Raise your hand if working on the forefront of streetwear and basketball culture sounds like a job made for you. Join our team as a Jordan Store Manager and put on your favorite pair of J’s to embody the legacy and future of basketball. Help our customers find the perfect head-to-toe look to showcase their individuality, through our best apparel offering, ultimate footwear destination, and access to the latest launch product.  We believe our Flight Crew gives the Jordan Brand its wings, with a profound belief in our own potential and in others’ ability to soar to new heights. You’ll live out our principles and weave tradition with trend to captivate new and long-time fans, driving the brand’s evolution forward. This includes managing the Flight Crew and successfully implementing Jordan’s in-store programs and premium consumer experiences to drive business results. You will lead the charge of ensuring your team makes positive moments, has fun, and feels like they are a part of something bigger.  As a Store Manager, you’ll be accountable for coaching and inspiring your team to deliver the best experience for our customers while ensuring your team members feel included and supported. You'll use your retail expertise to drive store growth strategies and create opportunities to continue building upon community partnerships. You are the one people look to for encouragement, leadership and bringing the Jordan experience to life for our customers, communities, and colleagues. You will also enjoy benefits like employee discounts, healthcare, paid time off and education programs to develop and advance your career.     Putting Your Best Foot Forward   Minimum of six years of customer-facing retail or hospitality experience Minimum of four years of store management experience  Experience with retail operations, budgeting, planning, customer service, sales, and people leadership.   Proficient in Microsoft Office and retail business systems  Ability to bend, squat, reach, climb a ladder and stand for extended periods of time with or without reasonable accommodations.   Proven ability to utilize tools for conflict resolution and employee coaching and counseling Able to work weekends, nights, and holidays as needed   What You're Responsible For   Having an authentic connection to the Jordan Brand along with a strong interest in basketball, sneaker and streetwear culture. Being enthusiastic, passionate, and knowledgeable about Jordan products and services  Leading your team with courage and cultivating your store environment to achieve sales, service, organization, customer satisfaction and profitability goals while maintaining safety and operational standards Fostering a high performing, engaged team environment with a culture of recognition and rewards Driving store operation excellence and executing brand initiatives, including P/L statements, labor management, expenses, activations, and programs Leading your store's team and business results/critical metrics, including budgeting, planning, a high level of customer service, sales, people leadership and management  Working with District Partners on key enterprise-wide initiatives and programs   Rewarded for a Job Well Done  Health, Wellness and Dental Benefits Insurance Tuition Reimbursement program, Employee Assistance program, Retirement Savings Plan Match Accrued Paid Time Off and Holiday Pay The opportunity to buy Nike stock at a discount through our Employee Stock Purchase Plan (ESPP)  Discounts for you and your family  NIKE, Inc. is committed to employing a diverse workforce. Qualified applicants will receive consideration without regard to race, color, religion, sex, national origin, age, sexual orientation, gender identity, gender expression, veteran status, or disability.  For more information, please refer to Equal Employment Opportunity is The Law NIKE, Inc. is a growth company that looks for team members to grow with it. Nike offers a generous total rewards package, casual work environment, a diverse and inclusive culture, and an electric atmosphere for professional development. No matter the location, or the role, every Nike employee shares one galvanizing mission: To bring inspiration and innovation to every athlete* in the world.NIKE, Inc. is committed to employing a diverse workforce. Qualified applicants will receive consideration without regard to race, color, religion, sex, national origin, age, sexual orientation, gender identity, gender expression, veteran status, or disability.How We HireAt NIKE, Inc. we promise to provide a premium, inclusive, compelling and authentic candidate experience. Delivering on this promise means we allow you to be at your best — and to do that, you need to understand how the hiring process works. Transparency is key.\r\n",
      "\r\n",
      "* This overview explains our hiring process for corporate roles. Note there may be different hiring steps involved for non-corporate roles.Start nowBenefitsWhether it’s transportation or financial health, we continually invest in our employees to help them achieve greatness — inside and outside of work. All who work here should be able to realize their full potential.Employee Assistance ProgramHolidaysMedical PlanPaid Time Off (PTO)Product DiscountsLearn moreFIND A STOREBECOME A MEMBERSIGN UP FOR EMAILSEND US FEEDBACKSTUDENT DISCOUNTSGET HELPGET HELPOrder StatusDeliveryReturnsPayment OptionsContact Us On Nike.com InquiriesContact Us On All Other InquiriesABOUT NIKEABOUT NIKENewsCareersInvestorsSustainabilityIndia© 2025 Nike, Inc. All Rights ReservedGuidesNike AdaptNike Air MaxNike FlyleatherNike PegasusNike Zoom FlyNike AirNike FlyEaseNike FreeNike ReactNike ZoomXNike Air Force 1Nike FlyknitNike JoyrideNike VaporflyTerms of SaleTerms of UseNike Privacy Policy\n"
     ]
    }
   ],
   "source": [
    "from langchain_community.document_loaders import WebBaseLoader\n",
    "\n",
    "loader = WebBaseLoader(\"https://jobs.nike.com/job/R-50900?from=job%20search%20funnel\")\n",
    "page_data = loader.load().pop().page_content\n",
    "print(page_data)"
   ]
  },
  {
   "cell_type": "code",
   "execution_count": 21,
   "id": "06528d33",
   "metadata": {},
   "outputs": [
    {
     "name": "stdout",
     "output_type": "stream",
     "text": [
      "```json\n",
      "{\n",
      "  \"role\": \"Store Manager – Jordan Brand – Philadelphia\",\n",
      "  \"experience\": \"Minimum of six years of customer-facing retail or hospitality experience, Minimum of four years of store management experience\",\n",
      "  \"skills\": \"Retail operations, budgeting, planning, customer service, sales, people leadership, Microsoft Office, retail business systems, conflict resolution, employee coaching and counseling\",\n",
      "  \"description\": \"Join the Jordan Team as a Store Manager, Raise your hand if working on the forefront of streetwear and basketball culture sounds like a job made for you. Help our customers find the perfect head-to-toe look to showcase their individuality, through our best apparel offering, ultimate footwear destination, and access to the latest launch product.\"\n",
      "}\n",
      "```\n"
     ]
    }
   ],
   "source": [
    "from langchain_core.prompts import PromptTemplate\n",
    "\n",
    "prompt_extract = PromptTemplate.from_template(\n",
    "       \"\"\"\n",
    "       ### SCRAPED TEXT FROM WEBSITE:\n",
    "       {page_data}\n",
    "       ### INSTRUCTION:\n",
    "       The Scraped text is from the careers page of website.\n",
    "       Your job is to extract the job postings and return them in JSON format conatining\n",
    "       following keys:'role','experience','skills and description'.\n",
    "       Only return the Valid JSON\n",
    "       ### VALID JSON (NO PREAMBLE):\n",
    "       \"\"\"\n",
    "    \n",
    ")\n",
    "chain_extract = prompt_extract | llm\n",
    "res = chain_extract.invoke(input={'page_data':page_data})\n",
    "print(res.content)"
   ]
  },
  {
   "cell_type": "code",
   "execution_count": 22,
   "id": "ad649457",
   "metadata": {},
   "outputs": [
    {
     "data": {
      "text/plain": [
       "{'role': 'Store Manager – Jordan Brand – Philadelphia',\n",
       " 'experience': 'Minimum of six years of customer-facing retail or hospitality experience, Minimum of four years of store management experience',\n",
       " 'skills': 'Retail operations, budgeting, planning, customer service, sales, people leadership, Microsoft Office, retail business systems, conflict resolution, employee coaching and counseling',\n",
       " 'description': 'Join the Jordan Team as a Store Manager, Raise your hand if working on the forefront of streetwear and basketball culture sounds like a job made for you. Help our customers find the perfect head-to-toe look to showcase their individuality, through our best apparel offering, ultimate footwear destination, and access to the latest launch product.'}"
      ]
     },
     "execution_count": 22,
     "metadata": {},
     "output_type": "execute_result"
    }
   ],
   "source": [
    "from langchain_core.output_parsers import JsonOutputParser\n",
    "json_parser = JsonOutputParser()\n",
    "json_res = json_parser.parse(res.content)\n",
    "json_res"
   ]
  },
  {
   "cell_type": "code",
   "execution_count": 23,
   "id": "7465b828",
   "metadata": {},
   "outputs": [
    {
     "data": {
      "text/plain": [
       "dict"
      ]
     },
     "execution_count": 23,
     "metadata": {},
     "output_type": "execute_result"
    }
   ],
   "source": [
    "type(json_res)\n"
   ]
  },
  {
   "cell_type": "code",
   "execution_count": 24,
   "id": "58f5978d",
   "metadata": {},
   "outputs": [
    {
     "data": {
      "text/html": [
       "<div>\n",
       "<style scoped>\n",
       "    .dataframe tbody tr th:only-of-type {\n",
       "        vertical-align: middle;\n",
       "    }\n",
       "\n",
       "    .dataframe tbody tr th {\n",
       "        vertical-align: top;\n",
       "    }\n",
       "\n",
       "    .dataframe thead th {\n",
       "        text-align: right;\n",
       "    }\n",
       "</style>\n",
       "<table border=\"1\" class=\"dataframe\">\n",
       "  <thead>\n",
       "    <tr style=\"text-align: right;\">\n",
       "      <th></th>\n",
       "      <th>Techstack</th>\n",
       "      <th>Links</th>\n",
       "    </tr>\n",
       "  </thead>\n",
       "  <tbody>\n",
       "    <tr>\n",
       "      <th>0</th>\n",
       "      <td>React , Node.js , MongoDB</td>\n",
       "      <td>https://www.behance.net/gallery/216692657/Port...</td>\n",
       "    </tr>\n",
       "    <tr>\n",
       "      <th>1</th>\n",
       "      <td>Angular, .NET , SQL Server</td>\n",
       "      <td>https://dribbble.com/shots/21766554-Portfolio-...</td>\n",
       "    </tr>\n",
       "    <tr>\n",
       "      <th>2</th>\n",
       "      <td>Vue,js, Ruby on Rails , PostgreSQL</td>\n",
       "      <td>https://www.behance.net/gallery/216692657/Port...</td>\n",
       "    </tr>\n",
       "    <tr>\n",
       "      <th>3</th>\n",
       "      <td>Python, Django , MySQL</td>\n",
       "      <td>https://webflow.com/blog/web-design-portfolios</td>\n",
       "    </tr>\n",
       "    <tr>\n",
       "      <th>4</th>\n",
       "      <td>Java , SpringBoot, Oracle</td>\n",
       "      <td>https://dribbble.com/shots/21766554-Portfolio-...</td>\n",
       "    </tr>\n",
       "    <tr>\n",
       "      <th>5</th>\n",
       "      <td>Flutter, Firebase , GraphQL</td>\n",
       "      <td>https://www.awwwards.com/websites/portfolio/</td>\n",
       "    </tr>\n",
       "    <tr>\n",
       "      <th>6</th>\n",
       "      <td>Fronend, TypeScript , Angular</td>\n",
       "      <td>https://www.behance.net/gallery/216692657/Port...</td>\n",
       "    </tr>\n",
       "    <tr>\n",
       "      <th>7</th>\n",
       "      <td>Full-stack , JavaScript , Express.js</td>\n",
       "      <td>https://webflow.com/blog/web-design-portfolios</td>\n",
       "    </tr>\n",
       "    <tr>\n",
       "      <th>8</th>\n",
       "      <td>Devops , Jenkin , Docker</td>\n",
       "      <td>https://www.awwwards.com/websites/portfolio/</td>\n",
       "    </tr>\n",
       "  </tbody>\n",
       "</table>\n",
       "</div>"
      ],
      "text/plain": [
       "                              Techstack  \\\n",
       "0             React , Node.js , MongoDB   \n",
       "1            Angular, .NET , SQL Server   \n",
       "2    Vue,js, Ruby on Rails , PostgreSQL   \n",
       "3               Python, Django , MySQL    \n",
       "4            Java , SpringBoot, Oracle    \n",
       "5           Flutter, Firebase , GraphQL   \n",
       "6         Fronend, TypeScript , Angular   \n",
       "7  Full-stack , JavaScript , Express.js   \n",
       "8              Devops , Jenkin , Docker   \n",
       "\n",
       "                                               Links  \n",
       "0  https://www.behance.net/gallery/216692657/Port...  \n",
       "1  https://dribbble.com/shots/21766554-Portfolio-...  \n",
       "2  https://www.behance.net/gallery/216692657/Port...  \n",
       "3     https://webflow.com/blog/web-design-portfolios  \n",
       "4  https://dribbble.com/shots/21766554-Portfolio-...  \n",
       "5       https://www.awwwards.com/websites/portfolio/  \n",
       "6  https://www.behance.net/gallery/216692657/Port...  \n",
       "7     https://webflow.com/blog/web-design-portfolios  \n",
       "8       https://www.awwwards.com/websites/portfolio/  "
      ]
     },
     "execution_count": 24,
     "metadata": {},
     "output_type": "execute_result"
    }
   ],
   "source": [
    "import pandas as pd\n",
    "df = pd.read_csv(\"my_portfolio.csv\")\n",
    "df"
   ]
  },
  {
   "cell_type": "code",
   "execution_count": 27,
   "id": "cd3b565f",
   "metadata": {},
   "outputs": [],
   "source": [
    "import chromadb\n",
    "import uuid\n",
    "\n",
    "\n",
    "client = chromadb.PersistentClient('vectorstore')\n",
    "collection = client.get_or_create_collection(name=\"portfolio\")\n",
    "\n",
    "if not collection.count():\n",
    "    for _, row in df.iterrows():\n",
    "        collection.add(documents=row[\"Techstack\"],\n",
    "                      metadatas={\"links\":row[\"Links\"]},\n",
    "                       ids=[str(uuid.uuid4())])\n",
    "        \n",
    "        "
   ]
  },
  {
   "cell_type": "code",
   "execution_count": 30,
   "id": "ed963bcc",
   "metadata": {},
   "outputs": [
    {
     "data": {
      "text/plain": [
       "[[{'links': 'https://webflow.com/blog/web-design-portfolios'},\n",
       "  {'links': 'https://www.awwwards.com/websites/portfolio/'}],\n",
       " [{'links': 'https://www.behance.net/gallery/216692657/Portfolio-Web-Design?tracking_source=search_projects|web+design+portfolio&l=0'},\n",
       "  {'links': 'https://webflow.com/blog/web-design-portfolios'}]]"
      ]
     },
     "execution_count": 30,
     "metadata": {},
     "output_type": "execute_result"
    }
   ],
   "source": [
    "links = collection.query(query_texts=[\"Experience in python\",\"Experience in React Native\"],n_results=2).get('metadatas')\n",
    "links\n"
   ]
  },
  {
   "cell_type": "code",
   "execution_count": 32,
   "id": "589e754e",
   "metadata": {},
   "outputs": [
    {
     "data": {
      "text/plain": [
       "'Retail operations, budgeting, planning, customer service, sales, people leadership, Microsoft Office, retail business systems, conflict resolution, employee coaching and counseling'"
      ]
     },
     "execution_count": 32,
     "metadata": {},
     "output_type": "execute_result"
    }
   ],
   "source": [
    "job = json_res\n",
    "job['skills']"
   ]
  },
  {
   "cell_type": "code",
   "execution_count": 36,
   "id": "0c2e8a8f",
   "metadata": {},
   "outputs": [
    {
     "name": "stdout",
     "output_type": "stream",
     "text": [
      "Subject: Application for Software Engineering Position\n",
      "\n",
      "Dear Hiring Manager,\n",
      "\n",
      "I came across the job description for the software engineering position at your company and was impressed by the role's responsibilities and requirements. As a recent Computer Engineering undergraduate from York University with 1 year of experience as a Software Engineering Intern at CGI, I am confident that my skills and experience make me a strong candidate for this position.\n",
      "\n",
      "Throughout my internship, I worked on various projects utilizing different tech stacks, including front-end and back-end development, database management, and cloud computing. I am proficient in programming languages such as Java, Python, and JavaScript, and have experience with frameworks like React and Node.js. My experience has also taught me the importance of collaboration, version control, and testing, and I am well-versed in tools like Git, Jenkins, and JUnit.\n",
      "\n",
      "In addition to my technical skills, I have a strong passion for software development and a drive to continuously learn and improve. I have built several personal projects, including web applications, mobile apps, and machine learning models, which demonstrate my ability to work independently and think creatively.\n",
      "\n",
      "To showcase my portfolio, I would like to share with you some of my notable projects, which can be found on platforms like Behance, where I have a portfolio that highlights my web design skills: https://www.behance.net/gallery/216692657/Portfolio-Web-Design?tracking_source=search_projects|web+design+portfolio&l=0. I am also familiar with other design platforms like Awwwards, which features some of the best web design portfolios: https://www.awwwards.com/websites/portfolio/.\n",
      "\n",
      "I would welcome the opportunity to discuss my application and how my skills and experience align with the requirements of the software engineering position. Please do not hesitate to contact me if you require any additional information.\n",
      "\n",
      "Thank you for considering my application.\n",
      "\n",
      "Best regards,\n",
      "Rajat\n"
     ]
    }
   ],
   "source": [
    "prompt_email = PromptTemplate.from_template(\n",
    "    \"\"\"\n",
    "    ### JOB DESCRIPTION:\n",
    "    (job_description)\n",
    "    \n",
    "    ### INSTRUCTION:\n",
    "    You are Rajat, a recent Computer engineering Undergraduate from York University. You have 1 year of \n",
    "    experience as a Software Engineering Intern in CGI and and made different projects with different tech stacks and skills\n",
    "    Your Job is to write a cold email to recruiters regarding the job mentioned above how you can be a better\n",
    "    candidate for this position.\n",
    "    Also add the relevant one from following links to showcase Rajat's portfolio. {link_list}\n",
    "    Do not provide a preamble.\n",
    "    ### Email (No PREAMBLE):\n",
    "    \n",
    "    \"\"\"\n",
    ")\n",
    "chain_email = prompt_email | llm\n",
    "res = chain_email.invoke({\"job_description\": str(job), \"link_list\": links})\n",
    "print(res.content)"
   ]
  },
  {
   "cell_type": "code",
   "execution_count": null,
   "id": "e549201a",
   "metadata": {},
   "outputs": [],
   "source": []
  }
 ],
 "metadata": {
  "kernelspec": {
   "display_name": "Python 3 (ipykernel)",
   "language": "python",
   "name": "python3"
  },
  "language_info": {
   "codemirror_mode": {
    "name": "ipython",
    "version": 3
   },
   "file_extension": ".py",
   "mimetype": "text/x-python",
   "name": "python",
   "nbconvert_exporter": "python",
   "pygments_lexer": "ipython3",
   "version": "3.11.4"
  }
 },
 "nbformat": 4,
 "nbformat_minor": 5
}
